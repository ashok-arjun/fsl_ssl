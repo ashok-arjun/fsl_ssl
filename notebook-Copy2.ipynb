{
 "cells": [
  {
   "cell_type": "code",
   "execution_count": 1,
   "metadata": {},
   "outputs": [],
   "source": [
    "# !ln -s /kaggle/input/caltech-birds-2011-dataset/CUB_200_2011/images ./filelists/CUB/images\n",
    "# !ln -s /kaggle/input/miniimagenet/miniImageNet/images ./filelists/miniImagenet/images\n",
    "# !ln -s /kaggle/input/d/arjun2000ashok/tieredimagenet/tiered_imagenet/ ./filelists/tieredImagenet/images\n",
    "# !ln -s /kaggle/input/stanford-dogs-dataset/images/Images ./filelists/dogs/Images\n",
    "# !ln -s /kaggle/input/stanford-cars-dataset/cars_train/cars_train ./filelists/cars/images \n",
    "# !ln -s /kaggle/input/fgvc-aircraft/fgvc-aircraft-2013b/fgvc-aircraft-2013b/data/images ./filelists/aircrafts/images\n",
    "# !ln -s /kaggle/input/vggflowers/images ./filelists/flowers/images"
   ]
  },
  {
   "cell_type": "code",
   "execution_count": null,
   "metadata": {},
   "outputs": [
    {
     "name": "stdout",
     "output_type": "stream",
     "text": [
      "Checkpoint path: ckpts/dogs/_resnet18_protonet_aug_5way_5shot_16query_tracking_lr0.0010\n",
      "Fresh wandb run\n",
      "\u001b[34m\u001b[1mwandb\u001b[0m: Currently logged in as: \u001b[33mmulti-input\u001b[0m (use `wandb login --relogin` to force relogin)\n",
      "\u001b[34m\u001b[1mwandb\u001b[0m: wandb version 0.10.31 is available!  To upgrade, please run:\n",
      "\u001b[34m\u001b[1mwandb\u001b[0m:  $ pip install wandb --upgrade\n",
      "\u001b[34m\u001b[1mwandb\u001b[0m: Tracking run with wandb version 0.10.2\n",
      "\u001b[34m\u001b[1mwandb\u001b[0m: Run data is saved locally in wandb/run-20210602_175450-1fgvnhbe\n",
      "\u001b[34m\u001b[1mwandb\u001b[0m: Syncing run \u001b[33mgallant-durian-23\u001b[0m\n",
      "\u001b[34m\u001b[1mwandb\u001b[0m: ⭐️ View project at \u001b[34m\u001b[4mhttps://wandb.ai/multi-input/fsl_ssl\u001b[0m\n",
      "\u001b[34m\u001b[1mwandb\u001b[0m: 🚀 View run at \u001b[34m\u001b[4mhttps://wandb.ai/multi-input/fsl_ssl/runs/1fgvnhbe\u001b[0m\n",
      "\u001b[34m\u001b[1mwandb\u001b[0m: Run `wandb off` to turn off syncing.\n",
      "\n",
      "Epoch 0 | Batch 10/100 | Loss 29.637712\n",
      "Epoch 0 | Batch 20/100 | Loss 19.455481\n",
      "Epoch 0 | Batch 30/100 | Loss 14.165489\n",
      "Epoch 0 | Batch 40/100 | Loss 11.142201\n",
      "Epoch 0 | Batch 50/100 | Loss 9.271876\n",
      "Epoch 0 | Batch 60/100 | Loss 7.998126\n",
      "Epoch 0 | Batch 70/100 | Loss 7.089855\n",
      "Epoch 0 | Batch 80/100 | Loss 6.407310\n",
      "Epoch 0 | Batch 90/100 | Loss 5.869807\n",
      "Epoch 0 | Batch 100/100 | Loss 5.444449\n",
      "Epoch 1 | Batch 10/100 | Loss 1.549002\n",
      "Epoch 1 | Batch 20/100 | Loss 1.563365\n",
      "Epoch 1 | Batch 30/100 | Loss 1.571039\n",
      "Epoch 1 | Batch 40/100 | Loss 1.566106\n",
      "Epoch 1 | Batch 50/100 | Loss 1.569220\n",
      "Epoch 1 | Batch 60/100 | Loss 1.566017\n"
     ]
    }
   ],
   "source": [
    "!python train.py --dataset aircraft --train_aug --tracking"
   ]
  }
 ],
 "metadata": {
  "kernelspec": {
   "display_name": "Python 3",
   "language": "python",
   "name": "python3"
  },
  "language_info": {
   "codemirror_mode": {
    "name": "ipython",
    "version": 3
   },
   "file_extension": ".py",
   "mimetype": "text/x-python",
   "name": "python",
   "nbconvert_exporter": "python",
   "pygments_lexer": "ipython3",
   "version": "3.7.6"
  }
 },
 "nbformat": 4,
 "nbformat_minor": 4
}
