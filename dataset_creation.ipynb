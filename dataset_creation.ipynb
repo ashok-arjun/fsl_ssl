{
 "cells": [
  {
   "cell_type": "code",
   "execution_count": 52,
   "metadata": {},
   "outputs": [],
   "source": [
    "mini_train = {\"label_names\":[], \"image_names\":[], \"image_labels\":[]}\n",
    "mini_val = {\"label_names\":[], \"image_names\":[], \"image_labels\":[]}\n",
    "mini_test = {\"label_names\":[], \"image_names\":[], \"image_labels\":[]}"
   ]
  },
  {
   "cell_type": "code",
   "execution_count": 37,
   "metadata": {},
   "outputs": [],
   "source": [
    "import pandas as pd\n",
    "import numpy as np\n",
    "import os\n",
    "\n",
    "\n",
    "train = np.unique(pd.read_csv(\"train.csv\").iloc[:, 1].to_numpy())\n",
    "val = np.unique(pd.read_csv(\"val.csv\").iloc[:, 1].to_numpy())\n",
    "test = np.unique(pd.read_csv(\"test.csv\").iloc[:, 1].to_numpy())"
   ]
  },
  {
   "cell_type": "code",
   "execution_count": 71,
   "metadata": {},
   "outputs": [
    {
     "name": "stdout",
     "output_type": "stream",
     "text": [
      "base.json  novel.json  val.json\n"
     ]
    }
   ],
   "source": [
    "ls"
   ]
  },
  {
   "cell_type": "code",
   "execution_count": 69,
   "metadata": {},
   "outputs": [
    {
     "name": "stdout",
     "output_type": "stream",
     "text": [
      "1\n",
      "2\n",
      "3\n",
      "4\n",
      "5\n",
      "6\n",
      "7\n",
      "8\n",
      "9\n",
      "10\n",
      "11\n",
      "12\n",
      "13\n",
      "14\n",
      "15\n",
      "16\n",
      "17\n",
      "18\n",
      "19\n",
      "20\n",
      "21\n",
      "22\n",
      "23\n",
      "24\n",
      "25\n",
      "26\n",
      "27\n",
      "28\n",
      "29\n",
      "30\n",
      "31\n",
      "32\n",
      "33\n",
      "34\n",
      "35\n",
      "36\n",
      "37\n",
      "38\n",
      "39\n",
      "40\n",
      "41\n",
      "42\n",
      "43\n",
      "44\n",
      "45\n",
      "46\n",
      "47\n",
      "48\n",
      "49\n",
      "50\n",
      "51\n",
      "52\n",
      "53\n",
      "54\n",
      "55\n",
      "56\n",
      "57\n",
      "58\n",
      "59\n",
      "60\n",
      "61\n",
      "62\n",
      "63\n",
      "64\n"
     ]
    }
   ],
   "source": [
    "i = 0\n",
    "\n",
    "mini_train = {\"label_names\":[], \"image_names\":[], \"image_labels\":[]}\n",
    "\n",
    "for cls in train:\n",
    "    mini_train[\"label_names\"].append(cls)\n",
    "    images = os.listdir(\"images/\"+cls)\n",
    "    for image in images:\n",
    "        mini_train[\"image_names\"].append(\"filelists/miniImagenet/images/\"+image)\n",
    "        mini_train[\"image_labels\"].append(i)        \n",
    "    i += 1\n",
    "    print(i)\n",
    "\n",
    "with open('base.json', 'w') as fp:\n",
    "    json.dump(mini_train, fp)"
   ]
  },
  {
   "cell_type": "code",
   "execution_count": 67,
   "metadata": {},
   "outputs": [
    {
     "name": "stdout",
     "output_type": "stream",
     "text": [
      "65\n",
      "66\n",
      "67\n",
      "68\n",
      "69\n",
      "70\n",
      "71\n",
      "72\n",
      "73\n",
      "74\n",
      "75\n",
      "76\n",
      "77\n",
      "78\n",
      "79\n",
      "80\n"
     ]
    }
   ],
   "source": [
    "i = 64\n",
    "\n",
    "mini_val = {\"label_names\":[], \"image_names\":[], \"image_labels\":[]}\n",
    "\n",
    "\n",
    "for cls in val:\n",
    "    mini_val[\"label_names\"].append(cls)\n",
    "    images = os.listdir(\"images/\"+cls)\n",
    "    for image in images:\n",
    "        mini_val[\"image_names\"].append(\"filelists/miniImagenet/images/\"+image)\n",
    "        mini_val[\"image_labels\"].append(i)        \n",
    "    i += 1\n",
    "    print(i)\n",
    "    \n",
    "with open('val.json', 'w') as fp:\n",
    "    json.dump(mini_val, fp)"
   ]
  },
  {
   "cell_type": "code",
   "execution_count": 68,
   "metadata": {},
   "outputs": [
    {
     "name": "stdout",
     "output_type": "stream",
     "text": [
      "81\n",
      "82\n",
      "83\n",
      "84\n",
      "85\n",
      "86\n",
      "87\n",
      "88\n",
      "89\n",
      "90\n",
      "91\n",
      "92\n",
      "93\n",
      "94\n",
      "95\n",
      "96\n",
      "97\n",
      "98\n",
      "99\n",
      "100\n"
     ]
    }
   ],
   "source": [
    "i = 80\n",
    "\n",
    "mini_test = {\"label_names\":[], \"image_names\":[], \"image_labels\":[]}\n",
    "\n",
    "for cls in test:\n",
    "    mini_test[\"label_names\"].append(cls)\n",
    "    images = os.listdir(\"images/\"+cls)\n",
    "    for image in images:\n",
    "        mini_test[\"image_names\"].append(\"filelists/miniImagenet/images/\"+image)\n",
    "        mini_test[\"image_labels\"].append(i)        \n",
    "    i += 1\n",
    "    print(i)\n",
    "\n",
    "with open('novel.json', 'w') as fp:\n",
    "    json.dump(mini_test, fp)"
   ]
  },
  {
   "cell_type": "code",
   "execution_count": 39,
   "metadata": {},
   "outputs": [],
   "source": [
    "import os\n",
    "\n",
    "images = os.listdir(\"images/\"+'n07747607')"
   ]
  },
  {
   "cell_type": "code",
   "execution_count": 22,
   "metadata": {},
   "outputs": [
    {
     "data": {
      "text/plain": [
       "'/kaggle/working/fsl_ssl/filelists/miniImagenet'"
      ]
     },
     "execution_count": 22,
     "metadata": {},
     "output_type": "execute_result"
    }
   ],
   "source": [
    "pwd"
   ]
  },
  {
   "cell_type": "code",
   "execution_count": null,
   "metadata": {},
   "outputs": [],
   "source": []
  },
  {
   "cell_type": "code",
   "execution_count": 14,
   "metadata": {},
   "outputs": [],
   "source": [
    "with open('val.json', 'r+') as file:\n",
    "    content = file.read()\n",
    "    file.seek(0)\n",
    "    content = content.replace('/mnt/nfs/work1/smaji/jcsu/CloserLookFewShot/filelists/miniImagenet/ILSVRC2015/Data/CLS-LOC/train/', 'filelists/miniImagenet/images/')\n",
    "    file.write(content)"
   ]
  },
  {
   "cell_type": "code",
   "execution_count": 15,
   "metadata": {},
   "outputs": [
    {
     "data": {
      "text/plain": [
       "'{\"label_names\": [\"n01532829\",\"n01558993\",\"n01704323\",\"n01749939\",\"n01770081\",\"n01843383\",\"n01910747\",\"n02074367\",\"n02089867\",\"n02091831\",\"n02101006\",\"n02105505\",\"n02108089\",\"n02108551\",\"n02108915\",\"n02111277\",\"n02113712\",\"n02120079\",\"n02165456\",\"n02457408\",\"n02606052\",\"n02687172\",\"n02747177\",\"n02795169\",\"n02823428\",\"n02966193\",\"n03017168\",\"n03047690\",\"n03062245\",\"n03207743\",\"n03220513\",\"n03337140\",\"n03347037\",\"n03400231\",\"n03476684\",\"n03527444\",\"n03676483\",\"n03838899\",\"n03854065\",\"n03888605\",\"n03908618\",\"n03924679\",\"n03998194\",\"n04067472\",\"n04243546\",\"n04251144\",\"n04258138\",\"n04275548\",\"n04296562\",\"n04389033\",\"n04435653\",\"n04443257\",\"n04509417\",\"n04515003\",\"n04596742\",\"n04604644\",\"n04612504\",\"n06794110\",\"n07584110\",\"n07697537\",\"n07747607\",\"n09246464\",\"n13054560\",\"n13133613\",\"n01855672\",\"n02091244\",\"n02114548\",\"n02138441\",\"n02174001\",\"n02950826\",\"n02971356\",\"n02981792\",\"n03075370\",\"n03417042\",\"n03535780\",\"n03584254\",\"n03770439\",\"n03773504\",\"n03980874\",\"n09256479\",\"n01930112\",\"n01981276\",\"n02099601\",\"n02110063\",\"n02110341\",\"n02116738\",\"n02129165\",\"n02219486\",\"n02443484\",\"n02871525\",\"n03127925\",\"n03146219\",\"n03272010\",\"n03544143\",\"n03775546\",\"n04146614\",\"n04149813\",\"n04418357\",\"n04522168\",\"n07613480\"],\"image_names\": [\"filelists/miniImagenet/images/n01855672/n01855672_50634.JPEG\",\"filelists/miniImagenet/images/n01855672/n01855672_12031.JPEG\",\"filelists/miniImagenet/images/n01855672/n01855672_4536.JPEG\",\"filelists/miniImagenet/images/n01855672/n01855672_11762.JPEG\",\"filelists/miniImagenet/images/n01855672/n01855672_49229.JPEG\",\"filelists/miniImagenet/images/n01855672/n01855672_5386.JPEG\",\"filelists/miniImagenet/images/n01855672/n01855672_7996.JPEG\",\"filelists/miniImagenet/images/n01855672/n01855672_7066.JPEG\",\"filelists/miniImagenet/images/n01855672/n01855672_12082.JPEG\",\"filelists/miniImagenet/images/n01855672/n01855672_7560.JPEG\",\"filelists/miniImagenet/images/n01855672/n01855672_15385.JPEG\",\"filelists/miniImagenet/images/n01855672/n01855672_7601.JPEG\",\"filelists/miniImagenet/images/n01855672/n01855672_1125.JPEG\",\"filelists/miniImagenet/images/n01855672/n01855672_1937.JPEG\",\"filelists/miniImagenet/images/n01855672/n01855672_15653.JPEG\",\"filelists/miniImagenet/images/n01855672/n01855672_48522.JPEG\",\"filelists/miniImagenet/images/n01855672/n01855672_1528.JPEG\",\"filelists/miniImagenet/images/n01855672/n01855672_6308.JPEG\",\"filelists/miniImagenet/images/n01855672/n01855672_8550.JPEG\",\"filelists/miniImagenet/images/n01855672/n01855672_5986.JPEG\",\"filelists/miniImagenet/images/n01855672/n01855672_11638.JPEG\",\"filelists/miniImagenet/images/n01855672/n01855672_9523.JPEG\",\"filelists/miniImagenet/images/n01855672/n01855672_14101.JPEG\",\"filelists/miniImagenet/images/n01855672/n01855672_9425.JPEG\",\"filelists/miniImagenet/images/n01855672/n01855672_13632.JPEG\",\"filelists/miniImagenet/images/n01855672/n01855672_4733.JPEG\",\"filelists/miniImagenet/images/n01855672/n01855672_7535.JPEG\",\"filelists/miniImagenet/images/n01855672/n01855672_11276.JPEG\",\"filelists/miniImagenet/images/n01855672/n01855672_8092.JPEG\",\"filelists/miniImagenet/images/n01855672/n01855672_5636.JPEG\",\"filelists/miniImagenet/images/n01855672/n01855672_4687.JPEG\",\"filelists/miniImagenet/images/n01855672/n01855672_11539.JPEG\",\"filelists/miniImagenet/images/n01855672/n01855672_27127.JPEG\",\"filelists/miniImagenet/images/n01855672/n01855672_14935.JPEG\",\"filelists/miniImagenet/images/n01855672/n01855672_12858.JPEG\",\"filelists/miniImagenet/images/n01855672/n01855672_1799.JPEG\",\"filelists/miniImagenet/images/n01855672/n01855672_13511.JPEG\",\"filelists/miniImagenet/images/n01855672/n01855672_7095.JPEG\",\"filelists/miniImagenet/images/n01855672/n01855672_4968.JPEG\",\"filelists/miniImagenet/images/n01855672/n01855672_3808.JPEG\",\"filelists/miniImagenet/images/n01855672/n01855672_9451.JPEG\",\"filelists/miniImagenet/images/n01855672/n01855672_3581.JPEG\",\"filelists/miniImagenet/images/n01855672/n01855672_2473.JPEG\",\"filelists/miniImagenet/images/n01855672/n01855672_10907.JPEG\",\"filelists/miniImagenet/images/n01855672/n01855672_12654.JPEG\",\"filelists/miniImagenet/images/n01855672/n01855672_11030.JPEG\",\"filelists/miniImagenet/images/n01855672/n01855672_6451.JPEG\",\"filelists/miniImagenet/images/n01855672/n01855672_8391.JPEG\",\"filelists/miniImagenet/images/n01855672/n01855672_7216.JPEG\",\"filelists/miniImagenet/images/n01855672/n01855672_3364.JPEG\",\"filelists/miniImagenet/images/n01855672/n01855672_7116.JPEG\",\"filelists/miniImagenet/images/n01855672/n01855672_10932.JPEG\",\"filelists/miniImagenet/images/n01855672/n01855672_9556.JPEG\",\"filelists/miniImagenet/images/n01855672/n01855672_3051.JPEG\",\"filelists/miniImagenet/images/n01855672/n01855672_15550.JPEG\",\"filelists/miniImagenet/images/n01855672/n01855672_12176.JPEG\",\"filelists/miniImagenet/images/n01855672/n01855672_6045.JPEG\",\"filelists/miniImagenet/images/n01855672/n01855672_11447.JPEG\",\"filelists/miniImagenet/images/n01855672/n01855672_3179.JPEG\",\"filelists/miniImagenet/images/n01855672/n01855672_8698.JPEG\",\"filelists/miniImagenet/images/n01855672/n01855672_61946.JPEG\",\"filelists/miniImagenet/images/n01855672/n01855672_49091.JPEG\",\"filelists/miniImagenet/images/n01855672/n01855672_14080.JPEG\",\"filelists/miniImagenet/images/n01855672/n01855672_5038.JPEG\",\"filelists/miniImagenet/images/n01855672/n01855672_9961.JPEG\",\"filelists/miniImagenet/images/n01855672/n01855672_1280.JPEG\",\"filelists/miniImagenet/images/n01855672/n01855672_15813.JPEG\",\"filelists/miniImagenet/images/n01855672/n01855672_6667.JPEG\",\"filelists/miniImagenet/images/n01855672/n01855672_58101.JPEG\",\"filelists/miniImagenet/images/n01855672/n01855672_1665.JPEG\",\"filelists/miniImagenet/images/n01855672/n01855672_5115.JPEG\",\"filelists/miniImagenet/images/n01855672/n01855672_15317.JPEG\",\"filelists/miniImagenet/images/n01855672/n01855672_11085.JPEG\",\"filelists/miniImagenet/images/n01855672/n01855672_10826.JPEG\",\"filelists/miniImagenet/images/n01855672/n01855672_4403.JPEG\",\"filelists/miniImagenet/images/n01855672/n01855672_5128.JPEG\",\"filelists/miniImagenet/images/n01855672/n01855672_57092.JPEG\",\"filelists/miniImagenet/images/n01855672/n01855672_5387.JPEG\",\"filelists/miniImagenet/images/n01855672/n01855672_10625.JPEG\",\"filelists/miniImagenet/images/n01855672/n01855672_40394.JPEG\",\"filelists/miniImagenet/images/n01855672/n01855672_9612.JPEG\",\"filelists/miniImagenet/images/n01855672/n01855672_10248.JPEG\",\"filelists/miniImagenet/images/n01855672/n01855672_2690.JPEG\",\"filelists/miniImagenet/images/n01855672/n01855672_7444.JPEG\",\"filelists/miniImagenet/images/n01855672/n01855672_3508.JPEG\",\"filelists/miniImagenet/images/n01855672/n01855672_5059.JPEG\",\"filelists/miniImagenet/images/n01855672/n01855672_5542.JPEG\",\"filelists/miniImagenet/images/n01855672/n01855672_2293.JPEG\",\"filelists/miniImagenet/images/n01855672/n01855672_9178.JPEG\",\"filelists/miniImagenet/images/n01855672/n01855672_4452.JPEG\",\"filelists/miniImagenet/images/n01855672/n01855672_4458.JPEG\",\"filelists/miniImagenet/images/n01855672/n01855672_7941.JPEG\",\"filelists/miniImagenet/images/n01855672/n01855672_61170.JPEG\",\"filelists/miniImagenet/images/n01855672/n01855672_4724.JPEG\",\"filelists/miniImagenet/images/n01855672/n01855672_4255.JPEG\",\"filelists/miniImagenet/images/n01855672/n01855672_4181.JPEG\",\"filelists/miniImagenet/images/n01855672/n01855672_7420.JPEG\",\"filelists/miniImagenet/images/n01855672/n01855672_3222.JPEG\",\"filelists/miniImagenet/images/n01855672/n01855672_1586.JPEG\",\"filelists/miniImagenet/images/n01855672/n01855672_13068.JPEG\",\"filelists/miniImagenet/images/n01855672/n01855672_286.JPEG\",\"filelists/miniImagenet/images/n01855672/n01855672_15782.JPEG\",\"filelists/miniImagenet/images/n01855672/n01855672_8425.JPEG\",\"filelists/miniImagenet/images/n01855672/n01855672_12551.JPEG\",\"filelists/miniImagenet/images/n01855672/n01855672_6727.JPEG\",\"filelists/miniImagenet/images/n01855672/n01855672_4704.JPEG\",\"filelists/miniImagenet/images/n01855672/n01855672_29600.JPEG\",\"filelists/miniImagenet/images/n01855672/n01855672_3753.JPEG\",\"filelists/miniImagenet/images/n01855672/n01855672_15005.JPEG\",\"filelists/miniImagenet/images/n01855672/n01855672_6408.JPEG\",\"filelists/miniImagenet/images/n01855672/n01855672_14768.JPEG\",\"filelists/miniImagenet/images/n01855672/n01855672_8414.JPEG\",\"filelists/miniImagenet/images/n01855672/n01855672_4657.JPEG\",\"filelists/miniImagenet/images/n01855672/n01855672_9553.JPEG\",\"filelists/miniImagenet/images/n01855672/n01855672_2333.JPEG\",\"filelists/miniImagenet/images/n01855672/n01855672_15158.JPEG\",\"filelists/miniImagenet/images/n01855672/n01855672_8616.JPEG\",\"filelists/miniImagenet/images/n01855672/n01855672_15650.JPEG\",\"filelists/miniImagenet/images/n01855672/n01855672_6189.JPEG\",\"filelists/miniImagenet/images/n01855672/n01855672_13690.JPEG\",\"filelists/miniImagenet/images/n01855672/n01855672_8239.JPEG\",\"filelists/miniImagenet/images/n01855672/n01855672_15421.JPEG\",\"filelists/miniImagenet/images/n01855672/n01855672_6048.JPEG\",\"filelists/miniImagenet/images/n01855672/n01855672_6065.JPEG\",\"filelists/miniImagenet/images/n01855672/n01855672_288.JPEG\",\"filelists/miniImagenet/images/n01855672/n01855672_10283.JPEG\",\"filelists/miniImagenet/images/n01855672/n01855672_7880.JPEG\",\"filelists/miniImagenet/images/n01855672/n01855672_10720.JPEG\",\"filelists/miniImagenet/images/n01855672/n01855672_13850.JPEG\",\"filelists/miniImagenet/images/n01855672/n01855672_4619.JPEG\",\"filelists/miniImagenet/images/n01855672/n01855672_4335.JPEG\",\"filelists/miniImagenet/images/n01855672/n01855672_9570.JPEG\",\"filelists/miniImagenet/images/n01855672/n01855672_15267.JPEG\",\"filelists/miniImagenet/images/n01855672/n01855672_12962.JPEG\",\"filelists/miniImagenet/images/n01855672/n01855672_7409.JPEG\",\"filelists/miniImagenet/images/n01855672/n01855672_10953.JPEG\",\"filelists/miniImagenet/images/n01855672/n01855672_7833.JPEG\",\"filelists/miniImagenet/images/n01855672/n01855672_4340.JPEG\",\"filelists/miniImagenet/images/n01855672/n01855672_6200.JPEG\",\"filelists/miniImagenet/images/n01855672/n01855672_898.JPEG\",\"filelists/miniImagenet/images/n01855672/n01855672_7369.JPEG\",\"filelists/miniImagenet/images/n01855672/n01855672_1369.JPEG\",\"filelists/miniImagenet/images/n01855672/n01855672_13419.JPEG\",\"filelists/miniImagenet/images/n01855672/n01855672_4532.JPEG\",\"filelists/miniImagenet/images/n01855672/n01855672_3629.JPEG\",\"filelists/miniImagenet/images/n01855672/n01855672_6658.JPEG\",\"filelists/miniImagenet/images/n01855672/n01855672_5401.JPEG\",\"filelists/miniImagenet/images/n01855672/n01855672_13387.JPEG\",\"filelists/miniImagenet/images/n01855672/n01855672_35592.JPEG\",\"filelists/miniImagenet/images/n01855672/n01855672_4675.JPEG\",\"filelists/miniImagenet/images/n01855672/n01855672_3175.JPEG\",\"filelists/miniImagenet/images/n01855672/n01855672_836.JPEG\",\"filelists/miniImagenet/images/n01855672/n01855672_3834.JPEG\",\"filelists/miniImagenet/images/n01855672/n01855672_4819.JPEG\",\"filelists/miniImagenet/images/n01855672/n01855672_3299.JPEG\",\"filelists/miniImagenet/images/n01855672/n01855672_12257.JPEG\",\"filelists/miniImagenet/images/n01855672/n01855672_9046.JPEG\",\"filelists/miniImagenet/images/n01855672/n01855672_13359.JPEG\",\"filelists/miniImagenet/images/n01855672/n01855672_39658.JPEG\",\"filelists/miniImagenet/images/n01855672/n01855672_349.JPEG\",\"filelists/miniImagenet/images/n01855672/n01855672_10315.JPEG\",\"filelists/miniImagenet/images/n01855672/n01855672_3256.JPEG\",\"filelists/miniImagenet/images/n01855672/n01855672_7768.JPEG\",\"filelists/miniImagenet/images/n01855672/n01855672_9032.JPEG\",\"filelists/miniImagenet/images/n01855672/n01855672_57725.JPEG\",\"filelists/miniImagenet/images/n01855672/n01855672_5945.JPEG\",\"filelists/miniImagenet/images/n01855672/n01855672_2803.JPEG\",\"filelists/miniImagenet/images/n01855672/n01855672_4578.JPEG\",\"filelists/miniImagenet/images/n01855672/n01855672_14062.JPEG\",\"filelists/miniImagenet/images/n01855672/n01855672_6112.JPEG\",\"filelists/miniImagenet/images/n01855672/n01855672_15743.JPEG\",\"filelists/miniImagenet/images/n01855672/n01855672_3492.JPEG\",\"filelists/miniImagenet/images/n01855672/n01855672_1455.JPEG\",\"filelists/miniImagenet/images/n01855672/n01855672_13776.JPEG\",\"filelists/miniImagenet/images/n01855672/n01855672_1733.JPEG\",\"filelists/miniImagenet/images/n01855672/n01855672_406.JPEG\",\"filelists/miniImagenet/images/n01855672/n01855672_3566.JPEG\",\"filelists/miniImagenet/images/n01855672/n01855672_61025.JPEG\",\"fil'"
      ]
     },
     "execution_count": 15,
     "metadata": {},
     "output_type": "execute_result"
    }
   ],
   "source": [
    "content[0:12333]"
   ]
  },
  {
   "cell_type": "code",
   "execution_count": 13,
   "metadata": {},
   "outputs": [
    {
     "name": "stdout",
     "output_type": "stream",
     "text": [
      "18.1GB [14:41, 22.0MB/s]\n"
     ]
    }
   ],
   "source": [
    "!python download_gdrive.py 1c9IaoKPXVH_56c-0UWZRZPICyQ1hlkMD tieredImageNet.tar"
   ]
  },
  {
   "cell_type": "code",
   "execution_count": null,
   "metadata": {},
   "outputs": [],
   "source": [
    "!tar xvf tieredImageNet.tar"
   ]
  },
  {
   "cell_type": "code",
   "execution_count": 10,
   "metadata": {},
   "outputs": [
    {
     "name": "stdout",
     "output_type": "stream",
     "text": [
      "--2021-05-28 10:41:12--  https://raw.githubusercontent.com/ashok-arjun/files/main/download_gdrive.py\n",
      "Resolving raw.githubusercontent.com (raw.githubusercontent.com)... 185.199.111.133, 185.199.108.133, 185.199.110.133, ...\n",
      "Connecting to raw.githubusercontent.com (raw.githubusercontent.com)|185.199.111.133|:443... connected.\n",
      "HTTP request sent, awaiting response... 200 OK\n",
      "Length: 1766 (1.7K) [text/plain]\n",
      "Saving to: ‘download_gdrive.py’\n",
      "\n",
      "download_gdrive.py  100%[===================>]   1.72K  --.-KB/s    in 0s      \n",
      "\n",
      "2021-05-28 10:41:13 (26.7 MB/s) - ‘download_gdrive.py’ saved [1766/1766]\n",
      "\n"
     ]
    }
   ],
   "source": [
    "!wget https://raw.githubusercontent.com/ashok-arjun/files/main/download_gdrive.py"
   ]
  }
 ],
 "metadata": {
  "kernelspec": {
   "display_name": "Python 3",
   "language": "python",
   "name": "python3"
  },
  "language_info": {
   "codemirror_mode": {
    "name": "ipython",
    "version": 3
   },
   "file_extension": ".py",
   "mimetype": "text/x-python",
   "name": "python",
   "nbconvert_exporter": "python",
   "pygments_lexer": "ipython3",
   "version": "3.7.6"
  }
 },
 "nbformat": 4,
 "nbformat_minor": 4
}
