{
 "cells": [
  {
   "cell_type": "code",
   "execution_count": 1,
   "metadata": {},
   "outputs": [],
   "source": [
    "# !ln -s /kaggle/input/caltech-birds-2011-dataset/CUB_200_2011/images ./filelists/CUB/images\n",
    "# !ln -s /kaggle/input/miniimagenet/miniImageNet/images ./filelists/miniImagenet/images\n",
    "# !ln -s /kaggle/input/d/arjun2000ashok/tieredimagenet/tiered_imagenet/ ./filelists/tieredImagenet/images\n",
    "!ln -s /kaggle/input/stanford-dogs-dataset/images/Images ./filelists/dogs/Images\n",
    "# !ln -s /kaggle/input/stanford-cars-dataset/cars_train/cars_train ./filelists/cars/images \n",
    "# !ln -s /kaggle/input/fgvc-aircraft/fgvc-aircraft-2013b/fgvc-aircraft-2013b/data/images ./filelists/aircrafts/images\n",
    "# !ln -s /kaggle/input/vggflowers/images ./filelists/flowers/images"
   ]
  },
  {
   "cell_type": "code",
   "execution_count": 7,
   "metadata": {},
   "outputs": [
    {
     "name": "stdout",
     "output_type": "stream",
     "text": [
      "349\n"
     ]
    }
   ],
   "source": [
    "## To rename the saved epoch file\n",
    "\n",
    "import torch\n",
    "\n",
    "a = torch.load(\"ckpts/dogs/_resnet18_baseline_aug_tracking_lr0.0010/last_model.tar\")\n",
    "print(a['epoch'])"
   ]
  },
  {
   "cell_type": "code",
   "execution_count": 2,
   "metadata": {},
   "outputs": [
    {
     "name": "stdout",
     "output_type": "stream",
     "text": [
      "tracking in baseline train: True\n",
      "USE pre-trained model: False\n",
      "Checkpoint path: ckpts/dogs/_resnet18_baseline_aug_tracking_lr0.0010\n",
      "Fresh wandb run\n",
      "\u001b[34m\u001b[1mwandb\u001b[0m: Currently logged in as: \u001b[33mmulti-input\u001b[0m (use `wandb login --relogin` to force relogin)\n",
      "^C\n",
      "Problem at: train.py 250 <module>\n",
      "Traceback (most recent call last):\n",
      "  File \"<string>\", line 1, in <module>\n",
      "  File \"/opt/conda/lib/python3.7/multiprocessing/spawn.py\", line 105, in spawn_main\n",
      "    exitcode = _main(fd)\n",
      "  File \"/opt/conda/lib/python3.7/multiprocessing/spawn.py\", line 115, in _main\n",
      "    self = reduction.pickle.load(from_parent)\n",
      "  File \"/opt/conda/lib/python3.7/site-packages/wandb/__init__.py\", line 37, in <module>\n",
      "    from wandb import sdk as wandb_sdk\n",
      "  File \"/opt/conda/lib/python3.7/site-packages/wandb/sdk/__init__.py\", line 11, in <module>\n",
      "    from .wandb_init import init  # noqa: F401\n",
      "  File \"<frozen importlib._bootstrap>\", line 983, in _find_and_load\n",
      "  File \"<frozen importlib._bootstrap>\", line 967, in _find_and_load_unlocked\n",
      "  File \"<frozen importlib._bootstrap>\", line 677, in _load_unlocked\n",
      "  File \"<frozen importlib._bootstrap_external>\", line 724, in exec_module\n",
      "  File \"<frozen importlib._bootstrap_external>\", line 857, in get_code\n",
      "  File \"<frozen importlib._bootstrap_external>\", line 527, in _compile_bytecode\n",
      "  File \"<frozen importlib._bootstrap>\", line 224, in _verbose_message\n",
      "KeyboardInterrupt\n",
      "Traceback (most recent call last):\n",
      "  File \"/opt/conda/lib/python3.7/site-packages/wandb/sdk/wandb_init.py\", line 477, in init\n",
      "    run = wi.init()\n",
      "  File \"/opt/conda/lib/python3.7/site-packages/wandb/sdk/wandb_init.py\", line 356, in init\n",
      "    _backend=backend, _disable_warning=True, _settings=self.settings\n",
      "  File \"/opt/conda/lib/python3.7/site-packages/wandb/sdk/wandb_login.py\", line 102, in _login\n",
      "    res = _backend.interface.communicate_login(key, anonymous)\n",
      "  File \"/opt/conda/lib/python3.7/site-packages/wandb/interface/interface.py\", line 442, in communicate_login\n",
      "    result = self._communicate(rec, timeout=timeout)\n",
      "  File \"/opt/conda/lib/python3.7/site-packages/wandb/interface/interface.py\", line 437, in _communicate\n",
      "    return future.get(timeout)\n",
      "  File \"/opt/conda/lib/python3.7/site-packages/wandb/interface/interface.py\", line 58, in get\n",
      "    is_set = self._object_ready.wait(timeout)\n",
      "  File \"/opt/conda/lib/python3.7/threading.py\", line 552, in wait\n",
      "    signaled = self._cond.wait(timeout)\n",
      "  File \"/opt/conda/lib/python3.7/threading.py\", line 300, in wait\n",
      "    gotit = waiter.acquire(True, timeout)\n",
      "KeyboardInterrupt\n",
      "\n",
      "The above exception was the direct cause of the following exception:\n",
      "\n",
      "Traceback (most recent call last):\n",
      "  File \"train.py\", line 250, in <module>\n",
      "    wandb.init(project=\"fsl_ssl\")\n",
      "  File \"/opt/conda/lib/python3.7/site-packages/wandb/sdk/wandb_init.py\", line 495, in init\n",
      "    six.raise_from(Exception(\"interrupted\"), e)\n",
      "  File \"<string>\", line 3, in raise_from\n",
      "Exception: interrupted\n"
     ]
    }
   ],
   "source": [
    "# !python train.py --dataset dogs --train_aug --method baseline --tracking --stop_epoch 400\n",
    "!python train.py --dataset dogs --train_aug --method baseline --tracking --stop_epoch 400 --resume --resume_wandb_id 27wluxlz"
   ]
  },
  {
   "cell_type": "code",
   "execution_count": null,
   "metadata": {},
   "outputs": [],
   "source": [
    "!python save_features.py --dataset dogs --train_aug --method baseline --tracking --save_iter 399"
   ]
  },
  {
   "cell_type": "code",
   "execution_count": null,
   "metadata": {},
   "outputs": [],
   "source": [
    "!python test.py --dataset dogs --train_aug --method baseline --tracking --save_iter 399"
   ]
  }
 ],
 "metadata": {
  "kernelspec": {
   "display_name": "Python 3",
   "language": "python",
   "name": "python3"
  },
  "language_info": {
   "codemirror_mode": {
    "name": "ipython",
    "version": 3
   },
   "file_extension": ".py",
   "mimetype": "text/x-python",
   "name": "python",
   "nbconvert_exporter": "python",
   "pygments_lexer": "ipython3",
   "version": "3.7.6"
  }
 },
 "nbformat": 4,
 "nbformat_minor": 4
}
