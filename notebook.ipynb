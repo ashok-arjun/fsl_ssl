{
 "cells": [
  {
   "cell_type": "code",
   "execution_count": 1,
   "metadata": {},
   "outputs": [],
   "source": [
    "# !ln -s /kaggle/input/caltech-birds-2011-dataset/CUB_200_2011/images ./filelists/CUB/images\n",
    "# !ln -s /kaggle/input/miniimagenet/miniImageNet/images ./filelists/miniImagenet/images\n",
    "# !ln -s /kaggle/input/d/arjun2000ashok/tieredimagenet/tiered_imagenet/ ./filelists/tieredImagenet/images\n",
    "!ln -s /kaggle/input/stanford-dogs-dataset/images/Images ./filelists/dogs/Images\n",
    "# !ln -s /kaggle/input/stanford-cars-dataset/cars_train/cars_train ./filelists/cars/images \n",
    "# !ln -s /kaggle/input/fgvc-aircraft/fgvc-aircraft-2013b/fgvc-aircraft-2013b/data/images ./filelists/aircrafts/images\n",
    "# !ln -s /kaggle/input/vggflowers/images ./filelists/flowers/images"
   ]
  },
  {
   "cell_type": "code",
   "execution_count": 3,
   "metadata": {},
   "outputs": [
    {
     "name": "stdout",
     "output_type": "stream",
     "text": [
      "tracking in baseline train: True\n",
      "USE pre-trained model: False\n",
      "Checkpoint path: ckpts/dogs/_resnet18_baseline_aug_tracking_lr0.0010\n",
      "Fresh wandb run\n",
      "\u001b[34m\u001b[1mwandb\u001b[0m: Currently logged in as: \u001b[33mmulti-input\u001b[0m (use `wandb login --relogin` to force relogin)\n",
      "^C\n",
      "Problem at: train.py 255 <module>\n",
      "Fatal Python error: initsite: Failed to import the site module\n",
      "Traceback (most recent call last):\n",
      "  File \"/opt/conda/lib/python3.7/site.py\", line 579, in <module>\n",
      "Fatal Python error: initsite: Failed to import the site module\n",
      "Traceback (most recent call last):\n",
      "  File \"/opt/conda/lib/python3.7/site.py\", line 579, in <module>\n",
      "    main()\n",
      "  File \"/opt/conda/lib/python3.7/site.py\", line 566, in main\n",
      "    known_paths = addsitepackages(known_paths)\n",
      "  File \"/opt/conda/lib/python3.7/site.py\", line 349, in addsitepackages\n",
      "    addsitedir(sitedir, known_paths)\n",
      "  File \"/opt/conda/lib/python3.7/site.py\", line 207, in addsitedir\n",
      "    addpackage(sitedir, name, known_paths)\n",
      "  File \"/opt/conda/lib/python3.7/site.py\", line 168, in addpackage\n",
      "    exec(line)\n",
      "  File \"<string>\", line 1, in <module>\n",
      "    main()\n",
      "  File \"/opt/conda/lib/python3.7/site.py\", line 572, in main\n",
      "  File \"<frozen importlib._bootstrap_external>\", line 1280, in find_spec\n",
      "  File \"<frozen importlib._bootstrap_external>\", line 1252, in _get_spec\n",
      "  File \"<frozen importlib._bootstrap_external>\", line 1391, in find_spec\n",
      "  File \"<frozen importlib._bootstrap_external>\", line 59, in _path_join\n",
      "KeyboardInterrupt\n",
      "    execsitecustomize()\n",
      "  File \"/opt/conda/lib/python3.7/site.py\", line 511, in execsitecustomize\n",
      "    import sitecustomize\n",
      "  File \"/root/.local/lib/python3.7/site-packages/sitecustomize.py\", line 3, in <module>\n",
      "    from log import Log\n",
      "  File \"/root/.local/lib/python3.7/site-packages/log.py\", line 4, in <module>\n",
      "    import google.auth\n",
      "  File \"/opt/conda/lib/python3.7/site-packages/google/auth/__init__.py\", line 19, in <module>\n",
      "    from google.auth._default import default\n",
      "  File \"/opt/conda/lib/python3.7/site-packages/google/auth/_default.py\", line 30, in <module>\n",
      "    import google.auth.transport._http_client\n",
      "  File \"/opt/conda/lib/python3.7/site-packages/google/auth/transport/__init__.py\", line 30, in <module>\n",
      "Traceback (most recent call last):\n",
      "  File \"/opt/conda/lib/python3.7/site-packages/wandb/sdk/wandb_init.py\", line 477, in init\n",
      "    run = wi.init()\n",
      "  File \"/opt/conda/lib/python3.7/site-packages/wandb/sdk/wandb_init.py\", line 356, in init\n",
      "    from six.moves import http_client\n",
      "  File \"<frozen importlib._bootstrap>\", line 1032, in _handle_fromlist\n",
      "    _backend=backend, _disable_warning=True, _settings=self.settings\n",
      "  File \"/opt/conda/lib/python3.7/site-packages/wandb/sdk/wandb_login.py\", line 102, in _login\n",
      "    res = _backend.interface.communicate_login(key, anonymous)\n",
      "  File \"/opt/conda/lib/python3.7/site-packages/wandb/interface/interface.py\", line 442, in communicate_login\n",
      "  File \"/opt/conda/lib/python3.7/site-packages/six.py\", line 92, in __get__\n",
      "    result = self._communicate(rec, timeout=timeout)\n",
      "  File \"/opt/conda/lib/python3.7/site-packages/wandb/interface/interface.py\", line 437, in _communicate\n",
      "    return future.get(timeout)\n",
      "  File \"/opt/conda/lib/python3.7/site-packages/wandb/interface/interface.py\", line 58, in get\n",
      "    is_set = self._object_ready.wait(timeout)\n",
      "  File \"/opt/conda/lib/python3.7/threading.py\", line 552, in wait\n",
      "    signaled = self._cond.wait(timeout)\n",
      "  File \"/opt/conda/lib/python3.7/threading.py\", line 300, in wait\n",
      "    gotit = waiter.acquire(True, timeout)\n",
      "KeyboardInterrupt\n",
      "\n",
      "The above exception was the direct cause of the following exception:\n",
      "\n",
      "Traceback (most recent call last):\n",
      "  File \"train.py\", line 255, in <module>\n",
      "    wandb.init(project=\"fsl_ssl\")\n",
      "  File \"/opt/conda/lib/python3.7/site-packages/wandb/sdk/wandb_init.py\", line 495, in init\n",
      "    result = self._resolve()\n",
      "  File \"/opt/conda/lib/python3.7/site-packages/six.py\", line 115, in _resolve\n",
      "    return _import_module(self.mod)\n",
      "    six.raise_from(Exception(\"interrupted\"), e)\n",
      "  File \"<string>\", line 3, in raise_from\n",
      "  File \"/opt/conda/lib/python3.7/site-packages/six.py\", line 82, in _import_module\n",
      "    __import__(name)\n",
      "  File \"/opt/conda/lib/python3.7/http/client.py\", line 71, in <module>\n",
      "Exception: interrupted\n",
      "    import email.parser\n",
      "  File \"/opt/conda/lib/python3.7/email/parser.py\", line 12, in <module>\n",
      "    from email.feedparser import FeedParser, BytesFeedParser\n",
      "  File \"/opt/conda/lib/python3.7/email/feedparser.py\", line 27, in <module>\n",
      "    from email._policybase import compat32\n",
      "  File \"/opt/conda/lib/python3.7/email/_policybase.py\", line 7, in <module>\n",
      "    from email import header\n",
      "  File \"/opt/conda/lib/python3.7/email/header.py\", line 20, in <module>\n",
      "    from email import charset as _charset\n",
      "  File \"/opt/conda/lib/python3.7/email/charset.py\", line 18, in <module>\n",
      "    from email.encoders import encode_7or8bit\n",
      "  File \"/opt/conda/lib/python3.7/email/encoders.py\", line 16, in <module>\n",
      "    from quopri import encodestring as _encodestring\n",
      "  File \"<frozen importlib._bootstrap>\", line 983, in _find_and_load\n",
      "  File \"<frozen importlib._bootstrap>\", line 963, in _find_and_load_unlocked\n",
      "  File \"<frozen importlib._bootstrap>\", line 906, in _find_spec\n",
      "  File \"<frozen importlib._bootstrap_external>\", line 1280, in find_spec\n",
      "  File \"<frozen importlib._bootstrap_external>\", line 1252, in _get_spec\n",
      "  File \"<frozen importlib._bootstrap_external>\", line 1364, in find_spec\n",
      "  File \"<frozen importlib._bootstrap_external>\", line 81, in _path_stat\n",
      "KeyboardInterrupt\n"
     ]
    }
   ],
   "source": [
    "!python train.py --dataset dogs --train_aug --method baseline --tracking --stop_epoch 400\n",
    "!python train.py --dataset dogs --train_aug --method baseline --tracking --stop_epoch 400 --resume --resume_wandb_id 27wluxlz"
   ]
  },
  {
   "cell_type": "code",
   "execution_count": 7,
   "metadata": {},
   "outputs": [
    {
     "name": "stdout",
     "output_type": "stream",
     "text": [
      "349\n"
     ]
    }
   ],
   "source": [
    "## To rename the saved epoch file\n",
    "\n",
    "import torch\n",
    "\n",
    "a = torch.load(\"ckpts/dogs/_resnet18_baseline_aug_tracking_lr0.0010/last_model.tar\")\n",
    "print(a['epoch'])"
   ]
  },
  {
   "cell_type": "code",
   "execution_count": null,
   "metadata": {},
   "outputs": [],
   "source": [
    "!python save_features.py --dataset dogs --train_aug --method baseline --tracking --save_iter 399"
   ]
  },
  {
   "cell_type": "code",
   "execution_count": null,
   "metadata": {},
   "outputs": [],
   "source": [
    "!python test.py --dataset dogs --train_aug --method baseline --tracking --save_iter 399"
   ]
  }
 ],
 "metadata": {
  "kernelspec": {
   "display_name": "Python 3",
   "language": "python",
   "name": "python3"
  },
  "language_info": {
   "codemirror_mode": {
    "name": "ipython",
    "version": 3
   },
   "file_extension": ".py",
   "mimetype": "text/x-python",
   "name": "python",
   "nbconvert_exporter": "python",
   "pygments_lexer": "ipython3",
   "version": "3.7.6"
  }
 },
 "nbformat": 4,
 "nbformat_minor": 4
}
