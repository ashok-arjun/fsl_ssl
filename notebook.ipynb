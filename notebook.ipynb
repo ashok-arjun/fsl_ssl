{
 "cells": [
  {
   "cell_type": "code",
   "execution_count": 15,
   "metadata": {},
   "outputs": [
    {
     "name": "stdout",
     "output_type": "stream",
     "text": [
      "Traceback (most recent call last):\n",
      "  File \"/opt/conda/bin/kaggle\", line 5, in <module>\n",
      "    from kaggle.cli import main\n",
      "  File \"/opt/conda/lib/python3.7/site-packages/kaggle/__init__.py\", line 23, in <module>\n",
      "    api.authenticate()\n",
      "  File \"/opt/conda/lib/python3.7/site-packages/kaggle/api/kaggle_api_extended.py\", line 166, in authenticate\n",
      "    self.config_file, self.config_dir))\n",
      "OSError: Could not find kaggle.json. Make sure it's located in /root/.kaggle. Or use the environment method.\n"
     ]
    }
   ],
   "source": [
    "!kaggle competitions download -c imagenet-object-localization-challenge"
   ]
  },
  {
   "cell_type": "code",
   "execution_count": 32,
   "metadata": {},
   "outputs": [],
   "source": [
    "!git remote add origin https://github.com/ashok-arjun/fsl_ssl"
   ]
  },
  {
   "cell_type": "code",
   "execution_count": 21,
   "metadata": {},
   "outputs": [],
   "source": [
    "!ln -s /kaggle/input/caltech-birds-2011-dataset/CUB_200_2011/images ./"
   ]
  },
  {
   "cell_type": "code",
   "execution_count": 38,
   "metadata": {},
   "outputs": [
    {
     "name": "stdout",
     "output_type": "stream",
     "text": [
      "--2021-05-27 06:49:49--  https://bin.equinox.io/c/4VmDzA7iaHb/ngrok-stable-linux-amd64.zip\n",
      "Resolving bin.equinox.io (bin.equinox.io)... 54.224.27.210, 52.71.114.62, 3.209.27.98, ...\n",
      "Connecting to bin.equinox.io (bin.equinox.io)|54.224.27.210|:443... connected.\n",
      "HTTP request sent, awaiting response... 200 OK\n",
      "Length: 13832437 (13M) [application/octet-stream]\n",
      "Saving to: ‘ngrok-stable-linux-amd64.zip’\n",
      "\n",
      "ngrok-stable-linux- 100%[===================>]  13.19M  17.2MB/s    in 0.8s    \n",
      "\n",
      "2021-05-27 06:49:50 (17.2 MB/s) - ‘ngrok-stable-linux-amd64.zip’ saved [13832437/13832437]\n",
      "\n",
      "Archive:  ngrok-stable-linux-amd64.zip\n",
      "  inflating: ngrok                   \n"
     ]
    }
   ],
   "source": [
    "# Download Ngrok to tunnel the tensorboard port to an external port\n",
    "!wget https://bin.equinox.io/c/4VmDzA7iaHb/ngrok-stable-linux-amd64.zip\n",
    "!unzip ngrok-stable-linux-amd64.zip\n",
    "\n",
    "# Run tensorboard as well as Ngrox (for tunneling as non-blocking processes)\n",
    "import os\n",
    "import multiprocessing\n",
    "\n",
    "\n",
    "pool = multiprocessing.Pool(processes = 10)\n",
    "results_of_processes = [pool.apply_async(os.system, args=(cmd, ), callback = None )\n",
    "                        for cmd in [\n",
    "                        f\"tensorboard --logdir ./checkpoints/ --host 0.0.0.0 --port 6006 &\",\n",
    "                        \"./ngrok http 6006 &\"\n",
    "                        ]]"
   ]
  },
  {
   "cell_type": "code",
   "execution_count": 39,
   "metadata": {},
   "outputs": [
    {
     "name": "stdout",
     "output_type": "stream",
     "text": [
      "https://9d95cc871ad6.ngrok.io\n"
     ]
    }
   ],
   "source": [
    "! curl -s http://localhost:4040/api/tunnels | python3 -c \\\n",
    "    \"import sys, json; print(json.load(sys.stdin)['tunnels'][0]['public_url'])\""
   ]
  },
  {
   "cell_type": "code",
   "execution_count": 37,
   "metadata": {},
   "outputs": [
    {
     "name": "stdout",
     "output_type": "stream",
     "text": [
      "configs.json  events.out.tfevents.1622097704.966b0594bf7b\n"
     ]
    }
   ],
   "source": [
    "ls checkpoints/CUB/_resnet18_protonet_aug_5way_5shot_16query_lr0.0010/"
   ]
  },
  {
   "cell_type": "code",
   "execution_count": null,
   "metadata": {},
   "outputs": [
    {
     "name": "stdout",
     "output_type": "stream",
     "text": [
      "\u001b[34m\u001b[1mwandb\u001b[0m: Currently logged in as: \u001b[33mmulti-input\u001b[0m (use `wandb login --relogin` to force relogin)\n",
      "\u001b[34m\u001b[1mwandb\u001b[0m: wandb version 0.10.30 is available!  To upgrade, please run:\n",
      "\u001b[34m\u001b[1mwandb\u001b[0m:  $ pip install wandb --upgrade\n",
      "\u001b[34m\u001b[1mwandb\u001b[0m: Tracking run with wandb version 0.10.2\n",
      "\u001b[34m\u001b[1mwandb\u001b[0m: Run data is saved locally in wandb/run-20210527_070941-13j5pssc\n",
      "\u001b[34m\u001b[1mwandb\u001b[0m: Syncing run \u001b[33mvocal-sky-1\u001b[0m\n",
      "\u001b[34m\u001b[1mwandb\u001b[0m: ⭐️ View project at \u001b[34m\u001b[4mhttps://wandb.ai/meta-learners/fsl_ssl\u001b[0m\n",
      "\u001b[34m\u001b[1mwandb\u001b[0m: 🚀 View run at \u001b[34m\u001b[4mhttps://wandb.ai/meta-learners/fsl_ssl/runs/13j5pssc\u001b[0m\n",
      "\u001b[34m\u001b[1mwandb\u001b[0m: Run `wandb off` to turn off syncing.\n",
      "\n",
      "Checkpoint path: checkpoints/CUB/_resnet18_protonet_aug_5way_5shot_16query_lr0.0010\n",
      "Epoch 0 | Batch 10/100 | Loss 31.291200\n",
      "Epoch 0 | Batch 20/100 | Loss 18.683089\n",
      "Epoch 0 | Batch 30/100 | Loss 13.233142\n",
      "Epoch 0 | Batch 40/100 | Loss 10.357255\n",
      "Epoch 0 | Batch 50/100 | Loss 8.598020\n",
      "Epoch 0 | Batch 60/100 | Loss 7.425912\n",
      "Epoch 0 | Batch 70/100 | Loss 6.584853\n",
      "Epoch 0 | Batch 80/100 | Loss 5.955134\n",
      "Epoch 0 | Batch 90/100 | Loss 5.464107\n",
      "Epoch 0 | Batch 100/100 | Loss 5.072142\n",
      "100 Test Protonet Acc = 39.35% +- 1.46%\n",
      "best model! save...\n",
      "Epoch 1 | Batch 10/100 | Loss 1.513023\n",
      "Epoch 1 | Batch 20/100 | Loss 1.510616\n",
      "Epoch 1 | Batch 30/100 | Loss 1.502161\n",
      "Epoch 1 | Batch 40/100 | Loss 1.499066\n",
      "Epoch 1 | Batch 50/100 | Loss 1.503321\n",
      "Epoch 1 | Batch 60/100 | Loss 1.503316\n",
      "Epoch 1 | Batch 70/100 | Loss 1.503252\n",
      "Epoch 1 | Batch 80/100 | Loss 1.502544\n",
      "Epoch 1 | Batch 90/100 | Loss 1.495647\n",
      "Epoch 1 | Batch 100/100 | Loss 1.496046\n",
      "100 Test Protonet Acc = 41.15% +- 1.38%\n",
      "best model! save...\n",
      "Epoch 2 | Batch 10/100 | Loss 1.437595\n",
      "Epoch 2 | Batch 20/100 | Loss 1.457281\n",
      "Epoch 2 | Batch 30/100 | Loss 1.471490\n",
      "Epoch 2 | Batch 40/100 | Loss 1.478366\n",
      "Epoch 2 | Batch 50/100 | Loss 1.485038\n",
      "Epoch 2 | Batch 60/100 | Loss 1.479788\n",
      "Epoch 2 | Batch 70/100 | Loss 1.473585\n",
      "Epoch 2 | Batch 80/100 | Loss 1.468364\n",
      "Epoch 2 | Batch 90/100 | Loss 1.461564\n",
      "Epoch 2 | Batch 100/100 | Loss 1.459710\n",
      "100 Test Protonet Acc = 43.04% +- 1.54%\n",
      "best model! save...\n",
      "Epoch 3 | Batch 10/100 | Loss 1.446228\n",
      "Epoch 3 | Batch 20/100 | Loss 1.453659\n",
      "Epoch 3 | Batch 30/100 | Loss 1.467678\n",
      "Epoch 3 | Batch 40/100 | Loss 1.462980\n",
      "Epoch 3 | Batch 50/100 | Loss 1.450703\n",
      "Epoch 3 | Batch 60/100 | Loss 1.450490\n",
      "Epoch 3 | Batch 70/100 | Loss 1.453948\n",
      "Epoch 3 | Batch 80/100 | Loss 1.455728\n",
      "Epoch 3 | Batch 90/100 | Loss 1.454111\n",
      "Epoch 3 | Batch 100/100 | Loss 1.452822\n",
      "100 Test Protonet Acc = 41.56% +- 1.58%\n",
      "Epoch 4 | Batch 10/100 | Loss 1.392176\n",
      "Epoch 4 | Batch 20/100 | Loss 1.443032\n",
      "Epoch 4 | Batch 30/100 | Loss 1.460427\n",
      "Epoch 4 | Batch 40/100 | Loss 1.460233\n",
      "Epoch 4 | Batch 50/100 | Loss 1.447095\n",
      "Epoch 4 | Batch 60/100 | Loss 1.445540\n",
      "Epoch 4 | Batch 70/100 | Loss 1.446661\n",
      "Epoch 4 | Batch 80/100 | Loss 1.444369\n",
      "Epoch 4 | Batch 90/100 | Loss 1.442394\n",
      "Epoch 4 | Batch 100/100 | Loss 1.437564\n",
      "100 Test Protonet Acc = 45.73% +- 1.40%\n",
      "best model! save...\n",
      "Epoch 5 | Batch 10/100 | Loss 1.419892\n",
      "Epoch 5 | Batch 20/100 | Loss 1.418582\n",
      "Epoch 5 | Batch 30/100 | Loss 1.412460\n",
      "Epoch 5 | Batch 40/100 | Loss 1.412938\n",
      "Epoch 5 | Batch 50/100 | Loss 1.407323\n",
      "Epoch 5 | Batch 60/100 | Loss 1.397828\n"
     ]
    }
   ],
   "source": [
    "!python train.py --dataset CUB --train_aug"
   ]
  }
 ],
 "metadata": {
  "kernelspec": {
   "display_name": "Python 3",
   "language": "python",
   "name": "python3"
  },
  "language_info": {
   "codemirror_mode": {
    "name": "ipython",
    "version": 3
   },
   "file_extension": ".py",
   "mimetype": "text/x-python",
   "name": "python",
   "nbconvert_exporter": "python",
   "pygments_lexer": "ipython3",
   "version": "3.7.6"
  }
 },
 "nbformat": 4,
 "nbformat_minor": 4
}
