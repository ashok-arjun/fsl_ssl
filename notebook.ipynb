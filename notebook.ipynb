{
 "cells": [
  {
   "cell_type": "code",
   "execution_count": 27,
   "metadata": {},
   "outputs": [
    {
     "output_type": "stream",
     "name": "stdout",
     "text": [
      "/content/gdrive/My Drive/MLRC-models/fsl_ssl/filelists/CUB\n",
      "/content/gdrive/My Drive/MLRC-models/fsl_ssl\n"
     ]
    }
   ],
   "source": [
    "%cd ./filelists/CUB/\n",
    "!ln -s  ../../../CUB_200_2011/images ./images\n",
    "%cd ../../\n",
    "# !ln -s /kaggle/input/miniimagenet/miniImageNet/images ./filelists/miniImagenet/images\n",
    "# !ln -s /kaggle/input/d/arjun2000ashok/tieredimagenet/tiered_imagenet/ ./filelists/tieredImagenet/images\n",
    "# !ln -s /kaggle/input/stanford-dogs-dataset/images/Images ./filelists/dogs/Images\n",
    "# !ln -s /kaggle/input/stanford-cars-dataset/cars_train/cars_train ./filelists/cars/images \n",
    "# !ln -s /kaggle/input/fgvc-aircraft/fgvc-aircraft-2013b/fgvc-aircraft-2013b/data/images ./filelists/aircrafts/images\n",
    "# !ln -s /kaggle/input/vggflowers/images ./filelists/flowers/images"
   ]
  },
  {
   "cell_type": "code",
   "execution_count": 19,
   "metadata": {},
   "outputs": [
    {
     "output_type": "stream",
     "name": "stdout",
     "text": [
      "\u001b[K     |████████████████████████████████| 122kB 7.3MB/s \n\u001b[?25h"
     ]
    }
   ],
   "source": [
    "!pip -qqq install tensorboardX"
   ]
  },
  {
   "cell_type": "code",
   "execution_count": 22,
   "metadata": {},
   "outputs": [
    {
     "output_type": "stream",
     "name": "stdout",
     "text": [
      "tracking in baseline train: True\n",
      "USE pre-trained model: False\n",
      "Checkpoint path: ckpts/CUB/_resnet18_baseline_aug_tracking_lr0.0010\n",
      "Fresh wandb run\n",
      "\u001b[34m\u001b[1mwandb\u001b[0m: Currently logged in as: \u001b[33mmulti-input\u001b[0m (use `wandb login --relogin` to force relogin)\n",
      "2021-06-06 06:32:59.989766: I tensorflow/stream_executor/platform/default/dso_loader.cc:53] Successfully opened dynamic library libcudart.so.11.0\n",
      "\u001b[34m\u001b[1mwandb\u001b[0m: Tracking run with wandb version 0.10.31\n",
      "\u001b[34m\u001b[1mwandb\u001b[0m: Syncing run \u001b[33mfiery-paper-49\u001b[0m\n",
      "\u001b[34m\u001b[1mwandb\u001b[0m:  View project at \u001b[34m\u001b[4mhttps://wandb.ai/multi-input/fsl_ssl\u001b[0m\n",
      "\u001b[34m\u001b[1mwandb\u001b[0m:  View run at \u001b[34m\u001b[4mhttps://wandb.ai/multi-input/fsl_ssl/runs/1783ify9\u001b[0m\n",
      "\u001b[34m\u001b[1mwandb\u001b[0m: Run data is saved locally in /content/gdrive/MyDrive/MLRC-models/fsl_ssl/wandb/run-20210606_063258-1783ify9\n",
      "\u001b[34m\u001b[1mwandb\u001b[0m: Run `wandb offline` to turn off syncing.\n",
      "\n",
      "Traceback (most recent call last):\n",
      "  File \"train.py\", line 257, in <module>\n",
      "    train(base_loader, val_loader,  model, start_epoch, stop_epoch, params)\n",
      "  File \"train.py\", line 44, in train\n",
      "    model.train_loop(epoch, base_loader, optimizer, writer) #model are called by reference, no need to return\n",
      "  File \"/content/gdrive/MyDrive/MLRC-models/fsl_ssl/methods/baselinetrain.py\", line 219, in train_loop\n",
      "    for i, inputs in enumerate(train_loader):\n",
      "  File \"/usr/local/lib/python3.7/dist-packages/torch/utils/data/dataloader.py\", line 517, in __next__\n",
      "    data = self._next_data()\n",
      "  File \"/usr/local/lib/python3.7/dist-packages/torch/utils/data/dataloader.py\", line 1199, in _next_data\n",
      "    return self._process_data(data)\n",
      "  File \"/usr/local/lib/python3.7/dist-packages/torch/utils/data/dataloader.py\", line 1225, in _process_data\n",
      "    data.reraise()\n",
      "  File \"/usr/local/lib/python3.7/dist-packages/torch/_utils.py\", line 429, in reraise\n",
      "    raise self.exc_type(msg)\n",
      "FileNotFoundError: Caught FileNotFoundError in DataLoader worker process 0.\n",
      "Original Traceback (most recent call last):\n",
      "  File \"/usr/local/lib/python3.7/dist-packages/torch/utils/data/_utils/worker.py\", line 202, in _worker_loop\n",
      "    data = fetcher.fetch(index)\n",
      "  File \"/usr/local/lib/python3.7/dist-packages/torch/utils/data/_utils/fetch.py\", line 44, in fetch\n",
      "    data = [self.dataset[idx] for idx in possibly_batched_index]\n",
      "  File \"/usr/local/lib/python3.7/dist-packages/torch/utils/data/_utils/fetch.py\", line 44, in <listcomp>\n",
      "    data = [self.dataset[idx] for idx in possibly_batched_index]\n",
      "  File \"/content/gdrive/MyDrive/MLRC-models/fsl_ssl/data/dataset.py\", line 73, in __getitem__\n",
      "    img = Image.open(image_path).convert('RGB')\n",
      "  File \"/usr/local/lib/python3.7/dist-packages/PIL/Image.py\", line 2843, in open\n",
      "    fp = builtins.open(filename, \"rb\")\n",
      "FileNotFoundError: [Errno 2] No such file or directory: 'filelists/CUB/images/087.Mallard/Mallard_0119_76925.jpg'\n",
      "\n",
      "\n",
      "\u001b[34m\u001b[1mwandb\u001b[0m: Waiting for W&B process to finish, PID 3574\n",
      "\u001b[34m\u001b[1mwandb\u001b[0m: Program failed with code 1.  Press ctrl-c to abort syncing.\n",
      "\u001b[34m\u001b[1mwandb\u001b[0m:                                                                                \n",
      "\u001b[34m\u001b[1mwandb\u001b[0m: Find user logs for this run at: /content/gdrive/MyDrive/MLRC-models/fsl_ssl/wandb/run-20210606_063258-1783ify9/logs/debug.log\n",
      "\u001b[34m\u001b[1mwandb\u001b[0m: Find internal logs for this run at: /content/gdrive/MyDrive/MLRC-models/fsl_ssl/wandb/run-20210606_063258-1783ify9/logs/debug-internal.log\n",
      "\u001b[34m\u001b[1mwandb\u001b[0m: Synced 6 W&B file(s), 0 media file(s), 0 artifact file(s) and 1 other file(s)\n",
      "\u001b[34m\u001b[1mwandb\u001b[0m: \n",
      "\u001b[34m\u001b[1mwandb\u001b[0m: Synced \u001b[33mfiery-paper-49\u001b[0m: \u001b[34mhttps://wandb.ai/multi-input/fsl_ssl/runs/1783ify9\u001b[0m\n"
     ]
    }
   ],
   "source": [
    "!python train.py --dataset CUB --train_aug --method baseline --committed"
   ]
  },
  {
   "cell_type": "code",
   "execution_count": 47,
   "metadata": {},
   "outputs": [
    {
     "output_type": "stream",
     "name": "stdout",
     "text": [
      "\u001b[0m\u001b[01;34m001.Black_footed_Albatross\u001b[0m/     \u001b[01;34m102.Western_Wood_Pewee\u001b[0m/\n\u001b[01;34m002.Laysan_Albatross\u001b[0m/           \u001b[01;34m103.Sayornis\u001b[0m/\n\u001b[01;34m003.Sooty_Albatross\u001b[0m/            \u001b[01;34m104.American_Pipit\u001b[0m/\n\u001b[01;34m004.Groove_billed_Ani\u001b[0m/          \u001b[01;34m105.Whip_poor_Will\u001b[0m/\n\u001b[01;34m005.Crested_Auklet\u001b[0m/             \u001b[01;34m106.Horned_Puffin\u001b[0m/\n\u001b[01;34m006.Least_Auklet\u001b[0m/               \u001b[01;34m107.Common_Raven\u001b[0m/\n\u001b[01;34m007.Parakeet_Auklet\u001b[0m/            \u001b[01;34m108.White_necked_Raven\u001b[0m/\n\u001b[01;34m008.Rhinoceros_Auklet\u001b[0m/          \u001b[01;34m109.American_Redstart\u001b[0m/\n\u001b[01;34m009.Brewer_Blackbird\u001b[0m/           \u001b[01;34m110.Geococcyx\u001b[0m/\n\u001b[01;34m010.Red_winged_Blackbird\u001b[0m/       \u001b[01;34m111.Loggerhead_Shrike\u001b[0m/\n\u001b[01;34m011.Rusty_Blackbird\u001b[0m/            \u001b[01;34m112.Great_Grey_Shrike\u001b[0m/\n\u001b[01;34m012.Yellow_headed_Blackbird\u001b[0m/    \u001b[01;34m113.Baird_Sparrow\u001b[0m/\n\u001b[01;34m013.Bobolink\u001b[0m/                   \u001b[01;34m114.Black_throated_Sparrow\u001b[0m/\n\u001b[01;34m014.Indigo_Bunting\u001b[0m/             \u001b[01;34m115.Brewer_Sparrow\u001b[0m/\n\u001b[01;34m015.Lazuli_Bunting\u001b[0m/             \u001b[01;34m116.Chipping_Sparrow\u001b[0m/\n\u001b[01;34m016.Painted_Bunting\u001b[0m/            \u001b[01;34m117.Clay_colored_Sparrow\u001b[0m/\n\u001b[01;34m017.Cardinal\u001b[0m/                   \u001b[01;34m118.House_Sparrow\u001b[0m/\n\u001b[01;34m018.Spotted_Catbird\u001b[0m/            \u001b[01;34m119.Field_Sparrow\u001b[0m/\n\u001b[01;34m019.Gray_Catbird\u001b[0m/               \u001b[01;34m120.Fox_Sparrow\u001b[0m/\n\u001b[01;34m020.Yellow_breasted_Chat\u001b[0m/       \u001b[01;34m121.Grasshopper_Sparrow\u001b[0m/\n\u001b[01;34m021.Eastern_Towhee\u001b[0m/             \u001b[01;34m122.Harris_Sparrow\u001b[0m/\n\u001b[01;34m022.Chuck_will_Widow\u001b[0m/           \u001b[01;34m123.Henslow_Sparrow\u001b[0m/\n\u001b[01;34m023.Brandt_Cormorant\u001b[0m/           \u001b[01;34m124.Le_Conte_Sparrow\u001b[0m/\n\u001b[01;34m024.Red_faced_Cormorant\u001b[0m/        \u001b[01;34m125.Lincoln_Sparrow\u001b[0m/\n\u001b[01;34m025.Pelagic_Cormorant\u001b[0m/          \u001b[01;34m126.Nelson_Sharp_tailed_Sparrow\u001b[0m/\n\u001b[01;34m026.Bronzed_Cowbird\u001b[0m/            \u001b[01;34m127.Savannah_Sparrow\u001b[0m/\n\u001b[01;34m027.Shiny_Cowbird\u001b[0m/              \u001b[01;34m128.Seaside_Sparrow\u001b[0m/\n\u001b[01;34m028.Brown_Creeper\u001b[0m/              \u001b[01;34m129.Song_Sparrow\u001b[0m/\n\u001b[01;34m029.American_Crow\u001b[0m/              \u001b[01;34m130.Tree_Sparrow\u001b[0m/\n\u001b[01;34m030.Fish_Crow\u001b[0m/                  \u001b[01;34m131.Vesper_Sparrow\u001b[0m/\n\u001b[01;34m031.Black_billed_Cuckoo\u001b[0m/        \u001b[01;34m132.White_crowned_Sparrow\u001b[0m/\n\u001b[01;34m032.Mangrove_Cuckoo\u001b[0m/            \u001b[01;34m133.White_throated_Sparrow\u001b[0m/\n\u001b[01;34m033.Yellow_billed_Cuckoo\u001b[0m/       \u001b[01;34m134.Cape_Glossy_Starling\u001b[0m/\n\u001b[01;34m034.Gray_crowned_Rosy_Finch\u001b[0m/    \u001b[01;34m135.Bank_Swallow\u001b[0m/\n\u001b[01;34m035.Purple_Finch\u001b[0m/               \u001b[01;34m136.Barn_Swallow\u001b[0m/\n\u001b[01;34m036.Northern_Flicker\u001b[0m/           \u001b[01;34m137.Cliff_Swallow\u001b[0m/\n\u001b[01;34m037.Acadian_Flycatcher\u001b[0m/         \u001b[01;34m138.Tree_Swallow\u001b[0m/\n\u001b[01;34m038.Great_Crested_Flycatcher\u001b[0m/   \u001b[01;34m139.Scarlet_Tanager\u001b[0m/\n\u001b[01;34m039.Least_Flycatcher\u001b[0m/           \u001b[01;34m140.Summer_Tanager\u001b[0m/\n\u001b[01;34m040.Olive_sided_Flycatcher\u001b[0m/     \u001b[01;34m141.Artic_Tern\u001b[0m/\n\u001b[01;34m041.Scissor_tailed_Flycatcher\u001b[0m/  \u001b[01;34m142.Black_Tern\u001b[0m/\n\u001b[01;34m042.Vermilion_Flycatcher\u001b[0m/       \u001b[01;34m143.Caspian_Tern\u001b[0m/\n\u001b[01;34m043.Yellow_bellied_Flycatcher\u001b[0m/  \u001b[01;34m144.Common_Tern\u001b[0m/\n\u001b[01;34m044.Frigatebird\u001b[0m/                \u001b[01;34m145.Elegant_Tern\u001b[0m/\n\u001b[01;34m045.Northern_Fulmar\u001b[0m/            \u001b[01;34m146.Forsters_Tern\u001b[0m/\n\u001b[01;34m046.Gadwall\u001b[0m/                    \u001b[01;34m147.Least_Tern\u001b[0m/\n\u001b[01;34m047.American_Goldfinch\u001b[0m/         \u001b[01;34m148.Green_tailed_Towhee\u001b[0m/\n\u001b[01;34m048.European_Goldfinch\u001b[0m/         \u001b[01;34m149.Brown_Thrasher\u001b[0m/\n\u001b[01;34m049.Boat_tailed_Grackle\u001b[0m/        \u001b[01;34m150.Sage_Thrasher\u001b[0m/\n\u001b[01;34m050.Eared_Grebe\u001b[0m/                \u001b[01;34m151.Black_capped_Vireo\u001b[0m/\n\u001b[01;34m051.Horned_Grebe\u001b[0m/               \u001b[01;34m152.Blue_headed_Vireo\u001b[0m/\n\u001b[01;34m052.Pied_billed_Grebe\u001b[0m/          \u001b[01;34m153.Philadelphia_Vireo\u001b[0m/\n\u001b[01;34m053.Western_Grebe\u001b[0m/              \u001b[01;34m154.Red_eyed_Vireo\u001b[0m/\n\u001b[01;34m054.Blue_Grosbeak\u001b[0m/              \u001b[01;34m155.Warbling_Vireo\u001b[0m/\n\u001b[01;34m055.Evening_Grosbeak\u001b[0m/           \u001b[01;34m156.White_eyed_Vireo\u001b[0m/\n\u001b[01;34m056.Pine_Grosbeak\u001b[0m/              \u001b[01;34m157.Yellow_throated_Vireo\u001b[0m/\n\u001b[01;34m057.Rose_breasted_Grosbeak\u001b[0m/     \u001b[01;34m158.Bay_breasted_Warbler\u001b[0m/\n\u001b[01;34m058.Pigeon_Guillemot\u001b[0m/           \u001b[01;34m159.Black_and_white_Warbler\u001b[0m/\n\u001b[01;34m059.California_Gull\u001b[0m/            \u001b[01;34m160.Black_throated_Blue_Warbler\u001b[0m/\n\u001b[01;34m060.Glaucous_winged_Gull\u001b[0m/       \u001b[01;34m161.Blue_winged_Warbler\u001b[0m/\n\u001b[01;34m061.Heermann_Gull\u001b[0m/              \u001b[01;34m162.Canada_Warbler\u001b[0m/\n\u001b[01;34m062.Herring_Gull\u001b[0m/               \u001b[01;34m163.Cape_May_Warbler\u001b[0m/\n\u001b[01;34m063.Ivory_Gull\u001b[0m/                 \u001b[01;34m164.Cerulean_Warbler\u001b[0m/\n\u001b[01;34m064.Ring_billed_Gull\u001b[0m/           \u001b[01;34m165.Chestnut_sided_Warbler\u001b[0m/\n\u001b[01;34m065.Slaty_backed_Gull\u001b[0m/          \u001b[01;34m166.Golden_winged_Warbler\u001b[0m/\n\u001b[01;34m066.Western_Gull\u001b[0m/               \u001b[01;34m167.Hooded_Warbler\u001b[0m/\n\u001b[01;34m067.Anna_Hummingbird\u001b[0m/           \u001b[01;34m168.Kentucky_Warbler\u001b[0m/\n\u001b[01;34m068.Ruby_throated_Hummingbird\u001b[0m/  \u001b[01;34m169.Magnolia_Warbler\u001b[0m/\n\u001b[01;34m069.Rufous_Hummingbird\u001b[0m/         \u001b[01;34m170.Mourning_Warbler\u001b[0m/\n\u001b[01;34m070.Green_Violetear\u001b[0m/            \u001b[01;34m171.Myrtle_Warbler\u001b[0m/\n\u001b[01;34m071.Long_tailed_Jaeger\u001b[0m/         \u001b[01;34m172.Nashville_Warbler\u001b[0m/\n\u001b[01;34m072.Pomarine_Jaeger\u001b[0m/            \u001b[01;34m173.Orange_crowned_Warbler\u001b[0m/\n\u001b[01;34m073.Blue_Jay\u001b[0m/                   \u001b[01;34m174.Palm_Warbler\u001b[0m/\n\u001b[01;34m074.Florida_Jay\u001b[0m/                \u001b[01;34m175.Pine_Warbler\u001b[0m/\n\u001b[01;34m075.Green_Jay\u001b[0m/                  \u001b[01;34m176.Prairie_Warbler\u001b[0m/\n\u001b[01;34m076.Dark_eyed_Junco\u001b[0m/            \u001b[01;34m177.Prothonotary_Warbler\u001b[0m/\n\u001b[01;34m077.Tropical_Kingbird\u001b[0m/          \u001b[01;34m178.Swainson_Warbler\u001b[0m/\n\u001b[01;34m078.Gray_Kingbird\u001b[0m/              \u001b[01;34m179.Tennessee_Warbler\u001b[0m/\n\u001b[01;34m079.Belted_Kingfisher\u001b[0m/          \u001b[01;34m180.Wilson_Warbler\u001b[0m/\n\u001b[01;34m080.Green_Kingfisher\u001b[0m/           \u001b[01;34m181.Worm_eating_Warbler\u001b[0m/\n\u001b[01;34m081.Pied_Kingfisher\u001b[0m/            \u001b[01;34m182.Yellow_Warbler\u001b[0m/\n\u001b[01;34m082.Ringed_Kingfisher\u001b[0m/          \u001b[01;34m183.Northern_Waterthrush\u001b[0m/\n\u001b[01;34m083.White_breasted_Kingfisher\u001b[0m/  \u001b[01;34m184.Louisiana_Waterthrush\u001b[0m/\n\u001b[01;34m084.Red_legged_Kittiwake\u001b[0m/       \u001b[01;34m185.Bohemian_Waxwing\u001b[0m/\n\u001b[01;34m085.Horned_Lark\u001b[0m/                \u001b[01;34m186.Cedar_Waxwing\u001b[0m/\n\u001b[01;34m086.Pacific_Loon\u001b[0m/               \u001b[01;34m187.American_Three_toed_Woodpecker\u001b[0m/\n\u001b[01;34m087.Mallard\u001b[0m/                    \u001b[01;34m188.Pileated_Woodpecker\u001b[0m/\n\u001b[01;34m088.Western_Meadowlark\u001b[0m/         \u001b[01;34m189.Red_bellied_Woodpecker\u001b[0m/\n\u001b[01;34m089.Hooded_Merganser\u001b[0m/           \u001b[01;34m190.Red_cockaded_Woodpecker\u001b[0m/\n\u001b[01;34m090.Red_breasted_Merganser\u001b[0m/     \u001b[01;34m191.Red_headed_Woodpecker\u001b[0m/\n\u001b[01;34m091.Mockingbird\u001b[0m/                \u001b[01;34m192.Downy_Woodpecker\u001b[0m/\n\u001b[01;34m092.Nighthawk\u001b[0m/                  \u001b[01;34m193.Bewick_Wren\u001b[0m/\n\u001b[01;34m093.Clark_Nutcracker\u001b[0m/           \u001b[01;34m194.Cactus_Wren\u001b[0m/\n\u001b[01;34m094.White_breasted_Nuthatch\u001b[0m/    \u001b[01;34m195.Carolina_Wren\u001b[0m/\n\u001b[01;34m095.Baltimore_Oriole\u001b[0m/           \u001b[01;34m196.House_Wren\u001b[0m/\n\u001b[01;34m096.Hooded_Oriole\u001b[0m/              \u001b[01;34m197.Marsh_Wren\u001b[0m/\n\u001b[01;34m097.Orchard_Oriole\u001b[0m/             \u001b[01;34m198.Rock_Wren\u001b[0m/\n\u001b[01;34m098.Scott_Oriole\u001b[0m/               \u001b[01;34m199.Winter_Wren\u001b[0m/\n\u001b[01;34m099.Ovenbird\u001b[0m/                   \u001b[01;34m200.Common_Yellowthroat\u001b[0m/\n\u001b[01;34m100.Brown_Pelican\u001b[0m/              \u001b[01;36mimages\u001b[0m@\n\u001b[01;34m101.White_Pelican\u001b[0m/\n"
     ]
    }
   ],
   "source": [
    "ls filelists/CUB/images"
   ]
  },
  {
   "cell_type": "code",
   "execution_count": 46,
   "metadata": {},
   "outputs": [],
   "source": [
    "!mv ../CUB_200_2011/images filelists/CUB/images"
   ]
  }
 ],
 "metadata": {
  "kernelspec": {
   "name": "python3",
   "display_name": "Python 3",
   "language": "python"
  }
 },
 "nbformat": 4,
 "nbformat_minor": 4
}